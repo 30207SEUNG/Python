{
  "nbformat": 4,
  "nbformat_minor": 0,
  "metadata": {
    "colab": {
      "name": "2일차_2교시_input.ipynd",
      "provenance": [],
      "collapsed_sections": [],
      "authorship_tag": "ABX9TyO+jeO8hTFFW/YxBGiAdJbg",
      "include_colab_link": true
    },
    "kernelspec": {
      "name": "python3",
      "display_name": "Python 3"
    }
  },
  "cells": [
    {
      "cell_type": "markdown",
      "metadata": {
        "id": "view-in-github",
        "colab_type": "text"
      },
      "source": [
        "<a href=\"https://colab.research.google.com/github/30207SEUNG/Python/blob/master/2%EC%9D%BC%EC%B0%A8_2%EA%B5%90%EC%8B%9C_input_ipynd.ipynb\" target=\"_parent\"><img src=\"https://colab.research.google.com/assets/colab-badge.svg\" alt=\"Open In Colab\"/></a>"
      ]
    },
    {
      "cell_type": "code",
      "metadata": {
        "id": "VqhYrXdaDupD",
        "colab_type": "code",
        "colab": {
          "base_uri": "https://localhost:8080/",
          "height": 53
        },
        "outputId": "9ff8d30a-7699-426c-d7a3-3b788f8a4079"
      },
      "source": [
        "a = input('당신의 이름을 입력하시오 >>> ')\n",
        "a"
      ],
      "execution_count": 6,
      "outputs": [
        {
          "output_type": "stream",
          "text": [
            "당신의 이름을 입력하시오 >>> 1\n"
          ],
          "name": "stdout"
        },
        {
          "output_type": "execute_result",
          "data": {
            "text/plain": [
              "'1'"
            ]
          },
          "metadata": {
            "tags": []
          },
          "execution_count": 6
        }
      ]
    },
    {
      "cell_type": "code",
      "metadata": {
        "id": "r7cLVDBzEdFa",
        "colab_type": "code",
        "colab": {
          "base_uri": "https://localhost:8080/",
          "height": 53
        },
        "outputId": "11dedd05-70a3-4adb-9d30-00b1a6d7f755"
      },
      "source": [
        "b= input ('당신의 나이를 입력하시오 >>> ')\n",
        "b"
      ],
      "execution_count": 8,
      "outputs": [
        {
          "output_type": "stream",
          "text": [
            "당신의 나이를 입력하시오 >>> 18\n"
          ],
          "name": "stdout"
        },
        {
          "output_type": "execute_result",
          "data": {
            "text/plain": [
              "'18'"
            ]
          },
          "metadata": {
            "tags": []
          },
          "execution_count": 8
        }
      ]
    },
    {
      "cell_type": "code",
      "metadata": {
        "id": "d_U2yUqNElEJ",
        "colab_type": "code",
        "colab": {
          "base_uri": "https://localhost:8080/",
          "height": 35
        },
        "outputId": "f7876db6-431c-454f-927e-f8428af2330e"
      },
      "source": [
        "type(b)"
      ],
      "execution_count": 10,
      "outputs": [
        {
          "output_type": "execute_result",
          "data": {
            "text/plain": [
              "str"
            ]
          },
          "metadata": {
            "tags": []
          },
          "execution_count": 10
        }
      ]
    },
    {
      "cell_type": "code",
      "metadata": {
        "id": "B3SIfN-jEvEU",
        "colab_type": "code",
        "colab": {
          "base_uri": "https://localhost:8080/",
          "height": 35
        },
        "outputId": "900e93fd-40a2-4e36-9074-a4dfa1b9ff9f"
      },
      "source": [
        "c = int(b)\n",
        "c, type(c)"
      ],
      "execution_count": 16,
      "outputs": [
        {
          "output_type": "execute_result",
          "data": {
            "text/plain": [
              "(18, int)"
            ]
          },
          "metadata": {
            "tags": []
          },
          "execution_count": 16
        }
      ]
    },
    {
      "cell_type": "code",
      "metadata": {
        "id": "SF7mIA4eFD1C",
        "colab_type": "code",
        "colab": {
          "base_uri": "https://localhost:8080/",
          "height": 71
        },
        "outputId": "b9c1b920-710d-4ab6-e6e4-1fc09e9db7bb"
      },
      "source": [
        "year = int(input ('출생년도를 입력하시오>>> '))\n",
        "print('당신은 ', year, '년에 태어났군요')\n",
        "age = 2020-year+1\n",
        "print('당신은 ', age, '세 입니다.')"
      ],
      "execution_count": 22,
      "outputs": [
        {
          "output_type": "stream",
          "text": [
            "출생년도를 입력하시오>>> 2002\n",
            "당신은  2002 년에 태어났군요\n",
            "당신은  19 세 입니다.\n"
          ],
          "name": "stdout"
        }
      ]
    },
    {
      "cell_type": "markdown",
      "metadata": {
        "id": "BZD0ukhhGv-z",
        "colab_type": "text"
      },
      "source": [
        "**format** 서식지정자\n"
      ]
    },
    {
      "cell_type": "code",
      "metadata": {
        "id": "zxmNw4HRG38O",
        "colab_type": "code",
        "colab": {
          "base_uri": "https://localhost:8080/",
          "height": 35
        },
        "outputId": "a8f3dba1-e7b7-4269-e735-8658c7edc322"
      },
      "source": [
        "s='a is {}'\n",
        "s.format('apple')"
      ],
      "execution_count": 24,
      "outputs": [
        {
          "output_type": "execute_result",
          "data": {
            "text/plain": [
              "'a is apple'"
            ]
          },
          "metadata": {
            "tags": []
          },
          "execution_count": 24
        }
      ]
    },
    {
      "cell_type": "code",
      "metadata": {
        "id": "b9sXZxmgHWhk",
        "colab_type": "code",
        "colab": {
          "base_uri": "https://localhost:8080/",
          "height": 53
        },
        "outputId": "7586dedc-0c3e-48c9-e565-f7275579b1f1"
      },
      "source": [
        "a = '%s %d 개 가격은 %.2f 달라'\n",
        "b = a%('햄버거', 2, 4.0*2)\n",
        "print(a)\n",
        "print(b)"
      ],
      "execution_count": 25,
      "outputs": [
        {
          "output_type": "stream",
          "text": [
            "%s %d 개 가격은 %.2f 달라\n",
            "햄버거 2 개 가격은 8.00 달라\n"
          ],
          "name": "stdout"
        }
      ]
    },
    {
      "cell_type": "code",
      "metadata": {
        "id": "wMR-4HjUICUL",
        "colab_type": "code",
        "colab": {
          "base_uri": "https://localhost:8080/",
          "height": 35
        },
        "outputId": "72479a0c-280e-4e3d-bab8-c7f246ee14b5"
      },
      "source": [
        "a = '%s %d 마리 가격은 %d 원'\n",
        "b = a%('치킨', 2, 20000*2)\n",
        "\n",
        "print(b)"
      ],
      "execution_count": 29,
      "outputs": [
        {
          "output_type": "stream",
          "text": [
            "치킨 2 마리 가격은 40000 원\n"
          ],
          "name": "stdout"
        }
      ]
    }
  ]
}